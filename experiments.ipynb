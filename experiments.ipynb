{
 "cells": [
  {
   "attachments": {},
   "cell_type": "markdown",
   "metadata": {},
   "source": [
    "### Download Glove Embeddings"
   ]
  },
  {
   "cell_type": "code",
   "execution_count": 1,
   "metadata": {},
   "outputs": [],
   "source": [
    "import os\n",
    "\n",
    "GLOVE_PATH = os.path.join(\"glove\", \"glove.840B.300d.txt\")\n",
    "\n",
    "if not os.path.exists(GLOVE_PATH):\n",
    "    !wget \"https://nlp.stanford.edu/data/glove.840B.300d.zip\"\n",
    "    !unzip \"glove.840B.300d.zip\" -d \"glove\"\n",
    "    !rm \"glove.840B.300d.zip\""
   ]
  },
  {
   "attachments": {},
   "cell_type": "markdown",
   "metadata": {},
   "source": [
    "### Install dependencies"
   ]
  },
  {
   "cell_type": "code",
   "execution_count": null,
   "metadata": {},
   "outputs": [],
   "source": [
    "!pip install -r requirements.txt\n",
    "!python -m spacy download en_core_web_sm"
   ]
  },
  {
   "attachments": {},
   "cell_type": "markdown",
   "metadata": {},
   "source": [
    "### Create the datasets for training "
   ]
  },
  {
   "cell_type": "code",
   "execution_count": 2,
   "metadata": {},
   "outputs": [
    {
     "name": "stderr",
     "output_type": "stream",
     "text": [
      "/home/andreib/miniconda3/envs/atcs/lib/python3.10/site-packages/tqdm/auto.py:21: TqdmWarning: IProgress not found. Please update jupyter and ipywidgets. See https://ipywidgets.readthedocs.io/en/stable/user_install.html\n",
      "  from .autonotebook import tqdm as notebook_tqdm\n",
      "Found cached dataset snli (/home/andreib/.cache/huggingface/datasets/snli/plain_text/1.0.0/1f60b67533b65ae0275561ff7828aad5ee4282d0e6f844fd148d05d3c6ea251b)\n",
      "100%|██████████| 3/3 [00:00<00:00, 47.21it/s]\n",
      "Found cached dataset snli (/home/andreib/.cache/huggingface/datasets/snli/plain_text/1.0.0/1f60b67533b65ae0275561ff7828aad5ee4282d0e6f844fd148d05d3c6ea251b)\n",
      "100%|██████████| 3/3 [00:00<00:00, 598.47it/s]\n",
      "Found cached dataset snli (/home/andreib/.cache/huggingface/datasets/snli/plain_text/1.0.0/1f60b67533b65ae0275561ff7828aad5ee4282d0e6f844fd148d05d3c6ea251b)\n",
      "100%|██████████| 3/3 [00:00<00:00, 1344.47it/s]\n"
     ]
    }
   ],
   "source": [
    "%load_ext autoreload\n",
    "%autoreload 2\n",
    "\n",
    "from train_module.train import train_model\n",
    "from dataset.snli import SNLIDataset\n",
    "from dataset.dataset_utils import get_glove_embeddings\n",
    "from dataset.dataset_utils import get_glove_vocab_index_mapping\n",
    "from torch.utils.data import DataLoader\n",
    "\n",
    "glove_vocab_index_mapping = get_glove_vocab_index_mapping(GLOVE_PATH)\n",
    "glove_embeddings = get_glove_embeddings(GLOVE_PATH)\n",
    "\n",
    "train_dataset = SNLIDataset(\"train\", glove_vocab_index_mapping)\n",
    "validation_dataset = SNLIDataset(\"validation\", glove_vocab_index_mapping)\n",
    "test_dataset = SNLIDataset(\"test\", glove_vocab_index_mapping)\n",
    "\n",
    "BATCH_SIZE = 64\n",
    "NUM_WORKERS = 8\n",
    "\n",
    "train_loader = DataLoader(\n",
    "    train_dataset,\n",
    "    batch_size=BATCH_SIZE,\n",
    "    shuffle=True,\n",
    "    num_workers=NUM_WORKERS\n",
    ")\n",
    "\n",
    "validation_loader = DataLoader(\n",
    "    validation_dataset,\n",
    "    batch_size=BATCH_SIZE,\n",
    "    num_workers=NUM_WORKERS\n",
    ")\n",
    "\n",
    "test_loader = DataLoader(\n",
    "    test_dataset,\n",
    "    batch_size=BATCH_SIZE,\n",
    "    num_workers=NUM_WORKERS\n",
    ")\n"
   ]
  },
  {
   "attachments": {},
   "cell_type": "markdown",
   "metadata": {},
   "source": [
    "### Train all the model configurations"
   ]
  },
  {
   "cell_type": "code",
   "execution_count": 4,
   "metadata": {},
   "outputs": [
    {
     "name": "stderr",
     "output_type": "stream",
     "text": [
      "GPU available: True (cuda), used: True\n",
      "TPU available: False, using: 0 TPU cores\n",
      "IPU available: False, using: 0 IPUs\n",
      "HPU available: False, using: 0 HPUs\n",
      "/home/andreib/miniconda3/envs/atcs/lib/python3.10/site-packages/pytorch_lightning/trainer/connectors/logger_connector/logger_connector.py:67: UserWarning: Starting from v1.9.0, `tensorboardX` has been removed as a dependency of the `pytorch_lightning` package, due to potential conflicts with other packages in the ML ecosystem. For this reason, `logger=True` will use `CSVLogger` as the default logger, unless the `tensorboard` or `tensorboardX` packages are found. Please `pip install lightning[extra]` or one of them to enable TensorBoard support by default\n",
      "  warning_cache.warn(\n",
      "Global seed set to 42\n"
     ]
    }
   ],
   "source": [
    "models_output_size = {\n",
    "    \"BaselineEncoder\": {\n",
    "        \"output_size\": 1200,\n",
    "        \"bidirectional\": False\n",
    "    },\n",
    "    \"BaselineLSTM\": {\n",
    "        \"output_size\": 1200,\n",
    "        \"bidirectional\": False\n",
    "    },\n",
    "    \"BidirectionalLSTM\": {\n",
    "        \"output_size\": 2400,\n",
    "        \"bidirectional\": True\n",
    "    },\n",
    "    \"MaxPoolingBiLSTM\": {\n",
    "        \"output_size\": 2400,\n",
    "        \"bidirectional\": True\n",
    "    }\n",
    "}\n",
    "\n",
    "for model_name, config in models_output_size.items():\n",
    "    output_size, bidirectional = config.values()\n",
    "\n",
    "    train_model(\n",
    "        model_name,\n",
    "        data_loaders=[train_loader, validation_loader, test_loader],\n",
    "        glove_embeddings=glove_embeddings,\n",
    "        num_embeddings=glove_embeddings.shape[0],\n",
    "        embedding_dim=glove_embeddings.shape[1],\n",
    "        bidirectional=bidirectional,\n",
    "        encoder_output_size=output_size\n",
    "    )"
   ]
  },
  {
   "cell_type": "code",
   "execution_count": null,
   "metadata": {},
   "outputs": [],
   "source": []
  }
 ],
 "metadata": {
  "kernelspec": {
   "display_name": "atcs",
   "language": "python",
   "name": "python3"
  },
  "language_info": {
   "codemirror_mode": {
    "name": "ipython",
    "version": 3
   },
   "file_extension": ".py",
   "mimetype": "text/x-python",
   "name": "python",
   "nbconvert_exporter": "python",
   "pygments_lexer": "ipython3",
   "version": "3.10.10"
  },
  "orig_nbformat": 4
 },
 "nbformat": 4,
 "nbformat_minor": 2
}
